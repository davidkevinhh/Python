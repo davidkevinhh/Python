{
  "nbformat": 4,
  "nbformat_minor": 0,
  "metadata": {
    "colab": {
      "name": "shorten_link.ipynb",
      "provenance": [],
      "collapsed_sections": [],
      "authorship_tag": "ABX9TyOc3c7Ceax4eE9hFVSQoegr",
      "include_colab_link": true
    },
    "kernelspec": {
      "name": "python3",
      "display_name": "Python 3"
    },
    "language_info": {
      "name": "python"
    }
  },
  "cells": [
    {
      "cell_type": "markdown",
      "metadata": {
        "id": "view-in-github",
        "colab_type": "text"
      },
      "source": [
        "<a href=\"https://colab.research.google.com/github/davidkevinhh/Python/blob/main/shorten_link.ipynb\" target=\"_parent\"><img src=\"https://colab.research.google.com/assets/colab-badge.svg\" alt=\"Open In Colab\"/></a>"
      ]
    },
    {
      "cell_type": "code",
      "metadata": {
        "colab": {
          "base_uri": "https://localhost:8080/"
        },
        "id": "cDKsq7VFNJu3",
        "outputId": "909a59cc-5feb-459a-f405-52f167a01672"
      },
      "source": [
        "!pip install pyshorteners\n",
        "import pyshorteners\n",
        "\n",
        "def shorten_url(link):\n",
        "    short = pyshorteners.Shortener()\n",
        "    shortened_link = short.tinyurl.short(link)\n",
        "    return shortened_link\n",
        "\n",
        "my_url = input(\"Enter your url: \")\n",
        "print(\"\\nGotcha! here's your shorten link:\")\n",
        "print(shorten_url(my_url))"
      ],
      "execution_count": 2,
      "outputs": [
        {
          "output_type": "stream",
          "name": "stdout",
          "text": [
            "Requirement already satisfied: pyshorteners in /usr/local/lib/python3.7/dist-packages (1.0.1)\n",
            "Requirement already satisfied: requests in /usr/local/lib/python3.7/dist-packages (from pyshorteners) (2.23.0)\n",
            "Requirement already satisfied: certifi>=2017.4.17 in /usr/local/lib/python3.7/dist-packages (from requests->pyshorteners) (2021.5.30)\n",
            "Requirement already satisfied: chardet<4,>=3.0.2 in /usr/local/lib/python3.7/dist-packages (from requests->pyshorteners) (3.0.4)\n",
            "Requirement already satisfied: urllib3!=1.25.0,!=1.25.1,<1.26,>=1.21.1 in /usr/local/lib/python3.7/dist-packages (from requests->pyshorteners) (1.24.3)\n",
            "Requirement already satisfied: idna<3,>=2.5 in /usr/local/lib/python3.7/dist-packages (from requests->pyshorteners) (2.10)\n",
            "Enter your url: https://drive.google.com/drive/folders/1GXnQd-u93SCvT4tvbsrB3lH6RwzJwT6B\n",
            "\n",
            "Gotcha! here's your shorten link:\n",
            "https://tinyurl.com/ykyjpok5\n"
          ]
        }
      ]
    }
  ]
}