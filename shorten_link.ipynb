{
  "nbformat": 4,
  "nbformat_minor": 0,
  "metadata": {
    "colab": {
      "name": "shorten_link.ipynb",
      "provenance": [],
      "collapsed_sections": [],
      "authorship_tag": "ABX9TyOc3c7Ceax4eE9hFVSQoegr",
      "include_colab_link": true
    },
    "kernelspec": {
      "name": "python3",
      "display_name": "Python 3"
    },
    "language_info": {
      "name": "python"
    }
  },
  "cells": [
    {
      "cell_type": "markdown",
      "metadata": {
        "id": "view-in-github",
        "colab_type": "text"
      },
      "source": [
        "<a href=\"https://colab.research.google.com/github/davidkevinhh/Python/blob/main/shorten_link.ipynb\" target=\"_parent\"><img src=\"https://colab.research.google.com/assets/colab-badge.svg\" alt=\"Open In Colab\"/></a>"
      ]
    },
    {
      "cell_type": "code",
      "metadata": {
        "id": "cDKsq7VFNJu3"
      },
      "source": [
        "!pip install pyshorteners\n",
        "import pyshorteners\n",
        "\n",
        "def shorten_url(link):\n",
        "    short = pyshorteners.Shortener()\n",
        "    shortened_link = short.tinyurl.short(link)\n",
        "    return shortened_link\n",
        "\n",
        "my_url = input(\"Enter your url: \")\n",
        "print(\"\\nGotcha! here's your shorten link:\")\n",
        "print(shorten_url(my_url))"
      ],
      "execution_count": null,
      "outputs": []
    }
  ]
}