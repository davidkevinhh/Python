{
 "cells": [
  {
   "cell_type": "markdown",
   "id": "ea2aa119",
   "metadata": {},
   "source": [
    "# Default and Flexible Arguments"
   ]
  },
  {
   "cell_type": "markdown",
   "id": "dc26610a",
   "metadata": {},
   "source": [
    "## Functions with One Default Argument"
   ]
  },
  {
   "cell_type": "code",
   "execution_count": 26,
   "id": "c53995ab",
   "metadata": {},
   "outputs": [],
   "source": [
    "# Define shout_echo\n",
    "def shout_echo(word1, echo=1):\n",
    "    \"\"\"Concatenate echo copies of word1 and three\n",
    "     exclamation marks at the end of the string.\"\"\"\n",
    "\n",
    "    # Concatenate echo copies of word1 using *: echo_word\n",
    "    echo_word = word1*echo\n",
    "\n",
    "    # Concatenate '!!!' to echo_word: shout_word\n",
    "    shout_word = echo_word + '!!!'\n",
    "\n",
    "    # Return shout_word\n",
    "    return shout_word"
   ]
  },
  {
   "cell_type": "code",
   "execution_count": 27,
   "id": "90534cf9",
   "metadata": {},
   "outputs": [],
   "source": [
    "# Call shout_echo() with \"Hey\": no_echo\n",
    "no_echo = shout_echo(\"Hey\")"
   ]
  },
  {
   "cell_type": "code",
   "execution_count": 28,
   "id": "7a4f4ac3",
   "metadata": {},
   "outputs": [],
   "source": [
    "# Call shout_echo() with \"Hey\" and echo=5: with_echo\n",
    "with_echo = shout_echo(\"Hey\",5)"
   ]
  },
  {
   "cell_type": "code",
   "execution_count": 29,
   "id": "7c38f8a6",
   "metadata": {},
   "outputs": [
    {
     "name": "stdout",
     "output_type": "stream",
     "text": [
      "Hey!!!\n",
      "HeyHeyHeyHeyHey!!!\n"
     ]
    }
   ],
   "source": [
    "# Print no_echo and with_echo\n",
    "print(no_echo)\n",
    "print(with_echo)"
   ]
  },
  {
   "cell_type": "markdown",
   "id": "e437bbef",
   "metadata": {},
   "source": [
    "## Functions with Multiple Arguments"
   ]
  },
  {
   "cell_type": "code",
   "execution_count": 30,
   "id": "015b6428",
   "metadata": {},
   "outputs": [],
   "source": [
    "# Define shout_echo\n",
    "def shout_echo(word1, echo = 1, intense = False):\n",
    "    \"\"\"Concatenate echo copies of word1 and three\n",
    "    exclamation marks at the end of the string.\"\"\"\n",
    "\n",
    "    # Concatenate echo copies of word1 using *: echo_word\n",
    "    echo_word = word1 * echo\n",
    "\n",
    "    # Make echo_word uppercase if intense is True\n",
    "    if intense is True:\n",
    "        # Make uppercase and concatenate '!!!': echo_word_new\n",
    "        echo_word_new = echo_word.upper() + '!!!'\n",
    "    else:\n",
    "        # Concatenate '!!!' to echo_word: echo_word_new\n",
    "        echo_word_new = echo_word + '!!!'\n",
    "\n",
    "    # Return echo_word_new\n",
    "    return echo_word_new"
   ]
  },
  {
   "cell_type": "code",
   "execution_count": 31,
   "id": "c7d65b63",
   "metadata": {},
   "outputs": [],
   "source": [
    "# Call shout_echo() with \"Hey\", echo=5 and intense=True: with_big_echo\n",
    "with_big_echo = shout_echo(\"Hey\",echo = 5,intense = True)"
   ]
  },
  {
   "cell_type": "code",
   "execution_count": 32,
   "id": "ff22161d",
   "metadata": {},
   "outputs": [],
   "source": [
    "# Call shout_echo() with \"Hey\" and intense=True: big_no_echo\n",
    "big_no_echo = shout_echo(\"Hey\",intense=True)"
   ]
  },
  {
   "cell_type": "code",
   "execution_count": 33,
   "id": "943df868",
   "metadata": {},
   "outputs": [
    {
     "name": "stdout",
     "output_type": "stream",
     "text": [
      "HEYHEYHEYHEYHEY!!!\n",
      "HEY!!!\n"
     ]
    }
   ],
   "source": [
    "# Print values\n",
    "print(with_big_echo)\n",
    "print(big_no_echo)"
   ]
  },
  {
   "cell_type": "markdown",
   "id": "6568a4ca",
   "metadata": {},
   "source": [
    "## Functions with Variable-Length Arguments (*args)"
   ]
  },
  {
   "cell_type": "code",
   "execution_count": 34,
   "id": "8885377a",
   "metadata": {},
   "outputs": [],
   "source": [
    "# Define gibberish\n",
    "def gibberish(*args):\n",
    "    \"\"\"Concatenate strings in *args together.\"\"\"\n",
    "\n",
    "    # Initialize an empty string: hodgepodge\n",
    "    hodgepodge = \"\"\n",
    "\n",
    "    # Concatenate the strings in args\n",
    "    for word in args:\n",
    "        hodgepodge += word\n",
    "\n",
    "    # Return hodgepodge\n",
    "    return(hodgepodge)"
   ]
  },
  {
   "cell_type": "code",
   "execution_count": 35,
   "id": "472e65a2",
   "metadata": {},
   "outputs": [],
   "source": [
    "# Call gibberish() with one string: one_word\n",
    "one_word = gibberish(\"luke\")"
   ]
  },
  {
   "cell_type": "code",
   "execution_count": 36,
   "id": "956ffb2d",
   "metadata": {},
   "outputs": [],
   "source": [
    "# Call gibberish() with five strings: many_words\n",
    "many_words = gibberish(\"luke\", \"leia\", \"han\", \"obi\", \"darth\")"
   ]
  },
  {
   "cell_type": "code",
   "execution_count": 37,
   "id": "c59f0965",
   "metadata": {},
   "outputs": [
    {
     "name": "stdout",
     "output_type": "stream",
     "text": [
      "luke\n",
      "lukeleiahanobidarth\n"
     ]
    }
   ],
   "source": [
    "# Print one_word and many_words\n",
    "print(one_word)\n",
    "print(many_words)"
   ]
  },
  {
   "cell_type": "markdown",
   "id": "09e97676",
   "metadata": {},
   "source": [
    "## Functions with Variable-Length Keyword Arguments (**kwargs)"
   ]
  },
  {
   "cell_type": "code",
   "execution_count": 38,
   "id": "f789f3f5",
   "metadata": {},
   "outputs": [],
   "source": [
    "# Define report_status\n",
    "def report_status(**kwargs):\n",
    "    \"\"\"Print out the status of a movie character.\"\"\"\n",
    "\n",
    "    print(\"\\nBEGIN: REPORT\\n\")\n",
    "\n",
    "    # Iterate over the key-value pairs of kwargs\n",
    "    for key, value in kwargs.items():\n",
    "        # Print out the keys and values, separated by a colon ':'\n",
    "        print(key + \": \" + value)\n",
    "\n",
    "    print(\"\\nEND REPORT\")"
   ]
  },
  {
   "cell_type": "code",
   "execution_count": 39,
   "id": "da270d0d",
   "metadata": {},
   "outputs": [
    {
     "name": "stdout",
     "output_type": "stream",
     "text": [
      "\n",
      "BEGIN: REPORT\n",
      "\n",
      "name: luke\n",
      "affiliation: jedi\n",
      "status: missing\n",
      "\n",
      "END REPORT\n"
     ]
    }
   ],
   "source": [
    "# First call to report_status()\n",
    "report_status(name=\"luke\", affiliation=\"jedi\", status=\"missing\")"
   ]
  },
  {
   "cell_type": "code",
   "execution_count": 40,
   "id": "1e2eeeff",
   "metadata": {},
   "outputs": [
    {
     "name": "stdout",
     "output_type": "stream",
     "text": [
      "\n",
      "BEGIN: REPORT\n",
      "\n",
      "name: anakin\n",
      "affiliation: sith lord\n",
      "status: deceased\n",
      "\n",
      "END REPORT\n"
     ]
    }
   ],
   "source": [
    "# Second call to report_status()\n",
    "report_status(name=\"anakin\", affiliation=\"sith lord\", status=\"deceased\")"
   ]
  }
 ],
 "metadata": {
  "kernelspec": {
   "display_name": "Python 3",
   "language": "python",
   "name": "python3"
  },
  "language_info": {
   "codemirror_mode": {
    "name": "ipython",
    "version": 3
   },
   "file_extension": ".py",
   "mimetype": "text/x-python",
   "name": "python",
   "nbconvert_exporter": "python",
   "pygments_lexer": "ipython3",
   "version": "3.8.8"
  }
 },
 "nbformat": 4,
 "nbformat_minor": 5
}
